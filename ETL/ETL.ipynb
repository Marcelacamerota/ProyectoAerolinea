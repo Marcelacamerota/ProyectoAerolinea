{
 "cells": [
  {
   "cell_type": "markdown",
   "metadata": {},
   "source": [
    "Importar librerias"
   ]
  },
  {
   "cell_type": "code",
   "execution_count": 8,
   "metadata": {},
   "outputs": [],
   "source": [
    "import numpy as np\n",
    "import pandas as pd\n",
    "import matplotlib.pyplot as plt\n",
    "import seaborn as sns\n",
    "import pymysql\n",
    "#paquete para manejar varable de entorno(variable q esta en otra parte del codigo)\n",
    "from dotenv import load_dotenv\n",
    "import os\n",
    "import json"
   ]
  },
  {
   "cell_type": "code",
   "execution_count": 9,
   "metadata": {},
   "outputs": [],
   "source": [
    "#Desactivar warnings\n",
    "import warnings\n",
    "warnings.filterwarnings('ignore')"
   ]
  },
  {
   "cell_type": "markdown",
   "metadata": {},
   "source": [
    "Conectar a MySQL"
   ]
  },
  {
   "cell_type": "code",
   "execution_count": 10,
   "metadata": {},
   "outputs": [
    {
     "name": "stdout",
     "output_type": "stream",
     "text": [
      "Host: junction.proxy.rlwy.net, DB Name: railway, Port: 53597, User: root, Password: BpPAiNxOCYzqLjAKnqqtWOnoisURAuhw\n"
     ]
    }
   ],
   "source": [
    "import os\n",
    "\n",
    "def cargar_variables_entorno(archivo):\n",
    "    # Abrir el archivo de texto con las variables\n",
    "    with open(archivo, 'r') as file:\n",
    "        # Leer cada línea y configurar las variables de entorno\n",
    "        for line in file:\n",
    "            # Limpiar posibles saltos de línea y separar la clave y valor\n",
    "            clave, valor = line.strip().split('=')\n",
    "            os.environ[clave] = valor  # Establecer la variable de entorno\n",
    "\n",
    "# Llamar a la función con el archivo config.txt\n",
    "cargar_variables_entorno('C:\\\\Users\\\\Public\\\\PF\\\\config.txt')\n",
    "\n",
    "# Ahora puedes acceder a las variables de entorno\n",
    "host = os.getenv('HOST')\n",
    "dbName = os.getenv('DB_NAME')\n",
    "port = int(os.getenv('PORT'))  # Asegúrate de convertir a entero si es necesario\n",
    "user = os.getenv('USER')\n",
    "pswd = os.getenv('PASSWORD')\n",
    "\n",
    "print(f\"Host: {host}, DB Name: {dbName}, Port: {port}, User: {user}, Password: {pswd}\")"
   ]
  },
  {
   "cell_type": "code",
   "execution_count": 11,
   "metadata": {},
   "outputs": [
    {
     "name": "stdout",
     "output_type": "stream",
     "text": [
      "<pymysql.cursors.Cursor object at 0x000001989622ECF0>\n"
     ]
    }
   ],
   "source": [
    "user = os.getenv('USER')\n",
    "pswd = os.getenv('PASSWORD')\n",
    "host = os.getenv('HOST')\n",
    "dbName = os.getenv('DB_NAME')\n",
    "port = int(os.getenv('PORT'))\n",
    "\n",
    "try:\n",
    "    connection = pymysql.connect(host = host, user = user, passwd = pswd, database = dbName, port = port)\n",
    "    cursor = connection.cursor()\n",
    "    print (cursor) # Muestra el cursor si todo funciona correctamente\n",
    "\n",
    "except pymysql.Error as e:\n",
    "    print(\"Error en la conexión:\", e)"
   ]
  },
  {
   "cell_type": "markdown",
   "metadata": {},
   "source": [
    "- Tabla aircrafts"
   ]
  },
  {
   "cell_type": "code",
   "execution_count": 12,
   "metadata": {},
   "outputs": [
    {
     "data": {
      "text/html": [
       "<div>\n",
       "<style scoped>\n",
       "    .dataframe tbody tr th:only-of-type {\n",
       "        vertical-align: middle;\n",
       "    }\n",
       "\n",
       "    .dataframe tbody tr th {\n",
       "        vertical-align: top;\n",
       "    }\n",
       "\n",
       "    .dataframe thead th {\n",
       "        text-align: right;\n",
       "    }\n",
       "</style>\n",
       "<table border=\"1\" class=\"dataframe\">\n",
       "  <thead>\n",
       "    <tr style=\"text-align: right;\">\n",
       "      <th></th>\n",
       "      <th>aircraft_code</th>\n",
       "      <th>model</th>\n",
       "      <th>range</th>\n",
       "    </tr>\n",
       "  </thead>\n",
       "  <tbody>\n",
       "    <tr>\n",
       "      <th>0</th>\n",
       "      <td>319</td>\n",
       "      <td>{\"en\": \"Airbus A319-100\", \"ru\": \"Аэробус A319-...</td>\n",
       "      <td>6700</td>\n",
       "    </tr>\n",
       "    <tr>\n",
       "      <th>1</th>\n",
       "      <td>320</td>\n",
       "      <td>{\"en\": \"Airbus A320-200\", \"ru\": \"Аэробус A320-...</td>\n",
       "      <td>5700</td>\n",
       "    </tr>\n",
       "    <tr>\n",
       "      <th>2</th>\n",
       "      <td>321</td>\n",
       "      <td>{\"en\": \"Airbus A321-200\", \"ru\": \"Аэробус A321-...</td>\n",
       "      <td>5600</td>\n",
       "    </tr>\n",
       "    <tr>\n",
       "      <th>3</th>\n",
       "      <td>733</td>\n",
       "      <td>{\"en\": \"Boeing 737-300\", \"ru\": \"Боинг 737-300\"}</td>\n",
       "      <td>4200</td>\n",
       "    </tr>\n",
       "    <tr>\n",
       "      <th>4</th>\n",
       "      <td>763</td>\n",
       "      <td>{\"en\": \"Boeing 767-300\", \"ru\": \"Боинг 767-300\"}</td>\n",
       "      <td>7900</td>\n",
       "    </tr>\n",
       "  </tbody>\n",
       "</table>\n",
       "</div>"
      ],
      "text/plain": [
       "  aircraft_code                                              model  range\n",
       "0           319  {\"en\": \"Airbus A319-100\", \"ru\": \"Аэробус A319-...   6700\n",
       "1           320  {\"en\": \"Airbus A320-200\", \"ru\": \"Аэробус A320-...   5700\n",
       "2           321  {\"en\": \"Airbus A321-200\", \"ru\": \"Аэробус A321-...   5600\n",
       "3           733    {\"en\": \"Boeing 737-300\", \"ru\": \"Боинг 737-300\"}   4200\n",
       "4           763    {\"en\": \"Boeing 767-300\", \"ru\": \"Боинг 767-300\"}   7900"
      ]
     },
     "execution_count": 12,
     "metadata": {},
     "output_type": "execute_result"
    }
   ],
   "source": [
    "#Creación del DF\n",
    "query = \"SELECT * FROM aircrafts_data;\"\n",
    "\n",
    "aircrafts_data = pd.read_sql_query(query, connection)\n",
    "aircrafts_data.head()"
   ]
  },
  {
   "cell_type": "code",
   "execution_count": null,
   "metadata": {},
   "outputs": [
    {
     "data": {
      "text/plain": [
       "(9, 3)"
      ]
     },
     "execution_count": 13,
     "metadata": {},
     "output_type": "execute_result"
    }
   ],
   "source": [
    "#Cantidad de filas y columnas\n",
    "np.shape(aircrafts_data)"
   ]
  },
  {
   "cell_type": "code",
   "execution_count": null,
   "metadata": {},
   "outputs": [
    {
     "data": {
      "text/plain": [
       "aircraft_code    0\n",
       "model            0\n",
       "range            0\n",
       "dtype: int64"
      ]
     },
     "execution_count": 14,
     "metadata": {},
     "output_type": "execute_result"
    }
   ],
   "source": [
    "#Consultar nulos\n",
    "aircrafts_data.isnull().sum() "
   ]
  },
  {
   "cell_type": "code",
   "execution_count": null,
   "metadata": {},
   "outputs": [
    {
     "data": {
      "text/plain": [
       "9"
      ]
     },
     "execution_count": 22,
     "metadata": {},
     "output_type": "execute_result"
    }
   ],
   "source": [
    "#Consultar cantidad de unicos columna PK\n",
    "aircrafts_data['aircraft_code'].nunique()"
   ]
  },
  {
   "cell_type": "code",
   "execution_count": null,
   "metadata": {},
   "outputs": [
    {
     "data": {
      "text/html": [
       "<div>\n",
       "<style scoped>\n",
       "    .dataframe tbody tr th:only-of-type {\n",
       "        vertical-align: middle;\n",
       "    }\n",
       "\n",
       "    .dataframe tbody tr th {\n",
       "        vertical-align: top;\n",
       "    }\n",
       "\n",
       "    .dataframe thead th {\n",
       "        text-align: right;\n",
       "    }\n",
       "</style>\n",
       "<table border=\"1\" class=\"dataframe\">\n",
       "  <thead>\n",
       "    <tr style=\"text-align: right;\">\n",
       "      <th></th>\n",
       "      <th>aircraft_code</th>\n",
       "      <th>model</th>\n",
       "      <th>range</th>\n",
       "    </tr>\n",
       "  </thead>\n",
       "  <tbody>\n",
       "    <tr>\n",
       "      <th>0</th>\n",
       "      <td>319</td>\n",
       "      <td>Airbus A319-100</td>\n",
       "      <td>6700</td>\n",
       "    </tr>\n",
       "    <tr>\n",
       "      <th>1</th>\n",
       "      <td>320</td>\n",
       "      <td>Airbus A320-200</td>\n",
       "      <td>5700</td>\n",
       "    </tr>\n",
       "    <tr>\n",
       "      <th>2</th>\n",
       "      <td>321</td>\n",
       "      <td>Airbus A321-200</td>\n",
       "      <td>5600</td>\n",
       "    </tr>\n",
       "    <tr>\n",
       "      <th>3</th>\n",
       "      <td>733</td>\n",
       "      <td>Boeing 737-300</td>\n",
       "      <td>4200</td>\n",
       "    </tr>\n",
       "    <tr>\n",
       "      <th>4</th>\n",
       "      <td>763</td>\n",
       "      <td>Boeing 767-300</td>\n",
       "      <td>7900</td>\n",
       "    </tr>\n",
       "  </tbody>\n",
       "</table>\n",
       "</div>"
      ],
      "text/plain": [
       "  aircraft_code            model  range\n",
       "0           319  Airbus A319-100   6700\n",
       "1           320  Airbus A320-200   5700\n",
       "2           321  Airbus A321-200   5600\n",
       "3           733   Boeing 737-300   4200\n",
       "4           763   Boeing 767-300   7900"
      ]
     },
     "execution_count": 16,
     "metadata": {},
     "output_type": "execute_result"
    }
   ],
   "source": [
    "#Por razones de legibilidad mantenemos solo la versión en inglés de cada modelo, en lugar de todo el JSON.\n",
    "aircrafts_data['model'] = aircrafts_data['model'].apply(lambda x: json.loads(x)['en']) \n",
    "aircrafts_data.head()"
   ]
  },
  {
   "cell_type": "markdown",
   "metadata": {},
   "source": [
    "- Tabla airports"
   ]
  },
  {
   "cell_type": "code",
   "execution_count": null,
   "metadata": {},
   "outputs": [
    {
     "data": {
      "text/html": [
       "<div>\n",
       "<style scoped>\n",
       "    .dataframe tbody tr th:only-of-type {\n",
       "        vertical-align: middle;\n",
       "    }\n",
       "\n",
       "    .dataframe tbody tr th {\n",
       "        vertical-align: top;\n",
       "    }\n",
       "\n",
       "    .dataframe thead th {\n",
       "        text-align: right;\n",
       "    }\n",
       "</style>\n",
       "<table border=\"1\" class=\"dataframe\">\n",
       "  <thead>\n",
       "    <tr style=\"text-align: right;\">\n",
       "      <th></th>\n",
       "      <th>airport_code</th>\n",
       "      <th>airport_name</th>\n",
       "      <th>city</th>\n",
       "      <th>coordinates</th>\n",
       "      <th>timezone</th>\n",
       "    </tr>\n",
       "  </thead>\n",
       "  <tbody>\n",
       "    <tr>\n",
       "      <th>0</th>\n",
       "      <td>AAQ</td>\n",
       "      <td>{\"en\": \"Anapa Vityazevo Airport\", \"ru\": \"Витяз...</td>\n",
       "      <td>{\"en\": \"Anapa\", \"ru\": \"Анапа\"}</td>\n",
       "      <td>(37.3473014831539984,45.002101898192997)</td>\n",
       "      <td>Europe/Moscow</td>\n",
       "    </tr>\n",
       "    <tr>\n",
       "      <th>1</th>\n",
       "      <td>ABA</td>\n",
       "      <td>{\"en\": \"Abakan Airport\", \"ru\": \"Абакан\"}</td>\n",
       "      <td>{\"en\": \"Abakan\", \"ru\": \"Абакан\"}</td>\n",
       "      <td>(91.3850021362304688,53.7400016784667969)</td>\n",
       "      <td>Asia/Krasnoyarsk</td>\n",
       "    </tr>\n",
       "    <tr>\n",
       "      <th>2</th>\n",
       "      <td>AER</td>\n",
       "      <td>{\"en\": \"Sochi International Airport\", \"ru\": \"С...</td>\n",
       "      <td>{\"en\": \"Sochi\", \"ru\": \"Сочи\"}</td>\n",
       "      <td>(39.9566001892089986,43.4499015808110016)</td>\n",
       "      <td>Europe/Moscow</td>\n",
       "    </tr>\n",
       "    <tr>\n",
       "      <th>3</th>\n",
       "      <td>ARH</td>\n",
       "      <td>{\"en\": \"Talagi Airport\", \"ru\": \"Талаги\"}</td>\n",
       "      <td>{\"en\": \"Arkhangelsk\", \"ru\": \"Архангельск\"}</td>\n",
       "      <td>(40.7167015075683594,64.6003036499023438)</td>\n",
       "      <td>Europe/Moscow</td>\n",
       "    </tr>\n",
       "    <tr>\n",
       "      <th>4</th>\n",
       "      <td>ASF</td>\n",
       "      <td>{\"en\": \"Astrakhan Airport\", \"ru\": \"Астрахань\"}</td>\n",
       "      <td>{\"en\": \"Astrakhan\", \"ru\": \"Астрахань\"}</td>\n",
       "      <td>(48.0063018799000005,46.2832984924000002)</td>\n",
       "      <td>Europe/Samara</td>\n",
       "    </tr>\n",
       "  </tbody>\n",
       "</table>\n",
       "</div>"
      ],
      "text/plain": [
       "  airport_code                                       airport_name  \\\n",
       "0          AAQ  {\"en\": \"Anapa Vityazevo Airport\", \"ru\": \"Витяз...   \n",
       "1          ABA           {\"en\": \"Abakan Airport\", \"ru\": \"Абакан\"}   \n",
       "2          AER  {\"en\": \"Sochi International Airport\", \"ru\": \"С...   \n",
       "3          ARH           {\"en\": \"Talagi Airport\", \"ru\": \"Талаги\"}   \n",
       "4          ASF     {\"en\": \"Astrakhan Airport\", \"ru\": \"Астрахань\"}   \n",
       "\n",
       "                                         city  \\\n",
       "0              {\"en\": \"Anapa\", \"ru\": \"Анапа\"}   \n",
       "1            {\"en\": \"Abakan\", \"ru\": \"Абакан\"}   \n",
       "2               {\"en\": \"Sochi\", \"ru\": \"Сочи\"}   \n",
       "3  {\"en\": \"Arkhangelsk\", \"ru\": \"Архангельск\"}   \n",
       "4      {\"en\": \"Astrakhan\", \"ru\": \"Астрахань\"}   \n",
       "\n",
       "                                 coordinates          timezone  \n",
       "0   (37.3473014831539984,45.002101898192997)     Europe/Moscow  \n",
       "1  (91.3850021362304688,53.7400016784667969)  Asia/Krasnoyarsk  \n",
       "2  (39.9566001892089986,43.4499015808110016)     Europe/Moscow  \n",
       "3  (40.7167015075683594,64.6003036499023438)     Europe/Moscow  \n",
       "4  (48.0063018799000005,46.2832984924000002)     Europe/Samara  "
      ]
     },
     "execution_count": 17,
     "metadata": {},
     "output_type": "execute_result"
    }
   ],
   "source": [
    "#Creación del DF\n",
    "query = \"SELECT * FROM airports_data;\"\n",
    "\n",
    "airports_data = pd.read_sql_query(query, connection)\n",
    "airports_data.head() "
   ]
  },
  {
   "cell_type": "code",
   "execution_count": 18,
   "metadata": {},
   "outputs": [
    {
     "data": {
      "text/plain": [
       "(104, 5)"
      ]
     },
     "execution_count": 18,
     "metadata": {},
     "output_type": "execute_result"
    }
   ],
   "source": [
    "#Cantidad de filas y columnas\n",
    "np.shape(airports_data)"
   ]
  },
  {
   "cell_type": "code",
   "execution_count": 19,
   "metadata": {},
   "outputs": [
    {
     "data": {
      "text/plain": [
       "airport_code    0\n",
       "airport_name    0\n",
       "city            0\n",
       "coordinates     0\n",
       "timezone        0\n",
       "dtype: int64"
      ]
     },
     "execution_count": 19,
     "metadata": {},
     "output_type": "execute_result"
    }
   ],
   "source": [
    "#Consultar nulos\n",
    "airports_data.isnull().sum() "
   ]
  }
 ],
 "metadata": {
  "kernelspec": {
   "display_name": "Python 3",
   "language": "python",
   "name": "python3"
  },
  "language_info": {
   "codemirror_mode": {
    "name": "ipython",
    "version": 3
   },
   "file_extension": ".py",
   "mimetype": "text/x-python",
   "name": "python",
   "nbconvert_exporter": "python",
   "pygments_lexer": "ipython3",
   "version": "3.12.6"
  }
 },
 "nbformat": 4,
 "nbformat_minor": 2
}
