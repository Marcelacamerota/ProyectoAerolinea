{
 "cells": [
  {
   "cell_type": "markdown",
   "metadata": {},
   "source": [
    "Importar librerias"
   ]
  },
  {
   "cell_type": "code",
   "execution_count": 1,
   "metadata": {},
   "outputs": [],
   "source": [
    "import numpy as np\n",
    "import pandas as pd\n",
    "import matplotlib.pyplot as plt\n",
    "import seaborn as sns\n",
    "import pymysql\n",
    "#paquete para manejar varable de entorno(variable q esta en otra parte del codigo)\n",
    "from dotenv import load_dotenv\n",
    "import os"
   ]
  },
  {
   "cell_type": "code",
   "execution_count": 2,
   "metadata": {},
   "outputs": [],
   "source": [
    "#Desactivar warnings\n",
    "import warnings\n",
    "warnings.filterwarnings('ignore')"
   ]
  },
  {
   "cell_type": "markdown",
   "metadata": {},
   "source": [
    "Conexión a Base de Datos"
   ]
  },
  {
   "cell_type": "code",
   "execution_count": null,
   "metadata": {},
   "outputs": [],
   "source": [
    "import os\n",
    "\n",
    "def cargar_variables_entorno(archivo):\n",
    "    # Abrir el archivo de texto con las variables\n",
    "    with open(archivo, 'r') as file:\n",
    "        # Leer cada línea y configurar las variables de entorno\n",
    "        for line in file:\n",
    "            # Limpiar posibles saltos de línea y separar la clave y valor\n",
    "            clave, valor = line.strip().split('=')\n",
    "            os.environ[clave] = valor  # Establecer la variable de entorno\n",
    "\n",
    "# Llamar a la función con el archivo config.txt\n",
    "cargar_variables_entorno('C:\\\\Users\\\\Public\\\\PF\\\\config.txt')\n",
    "\n",
    "# Ahora puedes acceder a las variables de entorno\n",
    "host = os.getenv('HOST')\n",
    "dbName = os.getenv('DB_NAME')\n",
    "port = int(os.getenv('PORT'))  # Asegúrate de convertir a entero si es necesario\n",
    "user = os.getenv('USER')\n",
    "pswd = os.getenv('PASSWORD')\n",
    "\n",
    "print(f\"Host: {host}, DB Name: {dbName}, Port: {port}, User: {user}, Password: {pswd}\")"
   ]
  },
  {
   "cell_type": "code",
   "execution_count": 4,
   "metadata": {},
   "outputs": [
    {
     "name": "stdout",
     "output_type": "stream",
     "text": [
      "<pymysql.cursors.Cursor object at 0x000001F4CAC62810>\n"
     ]
    }
   ],
   "source": [
    "user = os.getenv('USER')\n",
    "pswd = os.getenv('PASSWORD')\n",
    "host = os.getenv('HOST')\n",
    "dbName = os.getenv('DB_NAME')\n",
    "port = int(os.getenv('PORT'))\n",
    "\n",
    "try:\n",
    "    connection = pymysql.connect(host = host, user = user, passwd = pswd, database = dbName, port = port)\n",
    "    cursor = connection.cursor()\n",
    "    print (cursor) # Muestra el cursor si todo funciona correctamente\n",
    "\n",
    "except pymysql.Error as e:\n",
    "    print(\"Error en la conexión:\", e)"
   ]
  },
  {
   "cell_type": "markdown",
   "metadata": {},
   "source": [
    "- Tabla aircrafts"
   ]
  },
  {
   "cell_type": "code",
   "execution_count": 5,
   "metadata": {},
   "outputs": [
    {
     "data": {
      "text/html": [
       "<div>\n",
       "<style scoped>\n",
       "    .dataframe tbody tr th:only-of-type {\n",
       "        vertical-align: middle;\n",
       "    }\n",
       "\n",
       "    .dataframe tbody tr th {\n",
       "        vertical-align: top;\n",
       "    }\n",
       "\n",
       "    .dataframe thead th {\n",
       "        text-align: right;\n",
       "    }\n",
       "</style>\n",
       "<table border=\"1\" class=\"dataframe\">\n",
       "  <thead>\n",
       "    <tr style=\"text-align: right;\">\n",
       "      <th></th>\n",
       "      <th>aircraft_code</th>\n",
       "      <th>model</th>\n",
       "      <th>range</th>\n",
       "    </tr>\n",
       "  </thead>\n",
       "  <tbody>\n",
       "    <tr>\n",
       "      <th>0</th>\n",
       "      <td>319</td>\n",
       "      <td>{\"en\": \"Airbus A319-100\", \"ru\": \"Аэробус A319-...</td>\n",
       "      <td>6700</td>\n",
       "    </tr>\n",
       "    <tr>\n",
       "      <th>1</th>\n",
       "      <td>320</td>\n",
       "      <td>{\"en\": \"Airbus A320-200\", \"ru\": \"Аэробус A320-...</td>\n",
       "      <td>5700</td>\n",
       "    </tr>\n",
       "    <tr>\n",
       "      <th>2</th>\n",
       "      <td>321</td>\n",
       "      <td>{\"en\": \"Airbus A321-200\", \"ru\": \"Аэробус A321-...</td>\n",
       "      <td>5600</td>\n",
       "    </tr>\n",
       "    <tr>\n",
       "      <th>3</th>\n",
       "      <td>733</td>\n",
       "      <td>{\"en\": \"Boeing 737-300\", \"ru\": \"Боинг 737-300\"}</td>\n",
       "      <td>4200</td>\n",
       "    </tr>\n",
       "    <tr>\n",
       "      <th>4</th>\n",
       "      <td>763</td>\n",
       "      <td>{\"en\": \"Boeing 767-300\", \"ru\": \"Боинг 767-300\"}</td>\n",
       "      <td>7900</td>\n",
       "    </tr>\n",
       "  </tbody>\n",
       "</table>\n",
       "</div>"
      ],
      "text/plain": [
       "  aircraft_code                                              model  range\n",
       "0           319  {\"en\": \"Airbus A319-100\", \"ru\": \"Аэробус A319-...   6700\n",
       "1           320  {\"en\": \"Airbus A320-200\", \"ru\": \"Аэробус A320-...   5700\n",
       "2           321  {\"en\": \"Airbus A321-200\", \"ru\": \"Аэробус A321-...   5600\n",
       "3           733    {\"en\": \"Boeing 737-300\", \"ru\": \"Боинг 737-300\"}   4200\n",
       "4           763    {\"en\": \"Boeing 767-300\", \"ru\": \"Боинг 767-300\"}   7900"
      ]
     },
     "execution_count": 5,
     "metadata": {},
     "output_type": "execute_result"
    }
   ],
   "source": [
    "#Creación del DF\n",
    "query = \"SELECT * FROM aircrafts_data;\"\n",
    "\n",
    "aircrafts_data = pd.read_sql_query(query, connection)\n",
    "aircrafts_data.head()"
   ]
  },
  {
   "cell_type": "code",
   "execution_count": 6,
   "metadata": {},
   "outputs": [
    {
     "data": {
      "text/plain": [
       "(9, 3)"
      ]
     },
     "execution_count": 6,
     "metadata": {},
     "output_type": "execute_result"
    }
   ],
   "source": [
    "#Cantidad de filas y columnas\n",
    "np.shape(aircrafts_data)"
   ]
  },
  {
   "cell_type": "code",
   "execution_count": 7,
   "metadata": {},
   "outputs": [
    {
     "data": {
      "text/plain": [
       "9"
      ]
     },
     "execution_count": 7,
     "metadata": {},
     "output_type": "execute_result"
    }
   ],
   "source": [
    "#Consultar cantidad de unicos columna PK\n",
    "aircrafts_data['aircraft_code'].nunique()"
   ]
  },
  {
   "cell_type": "code",
   "execution_count": 8,
   "metadata": {},
   "outputs": [
    {
     "data": {
      "text/plain": [
       "aircraft_code    0\n",
       "model            0\n",
       "range            0\n",
       "dtype: int64"
      ]
     },
     "execution_count": 8,
     "metadata": {},
     "output_type": "execute_result"
    }
   ],
   "source": [
    "#Consultar nulos\n",
    "aircrafts_data.isnull().sum() "
   ]
  },
  {
   "cell_type": "markdown",
   "metadata": {},
   "source": [
    "- Tabla airports"
   ]
  },
  {
   "cell_type": "code",
   "execution_count": 9,
   "metadata": {},
   "outputs": [
    {
     "data": {
      "text/html": [
       "<div>\n",
       "<style scoped>\n",
       "    .dataframe tbody tr th:only-of-type {\n",
       "        vertical-align: middle;\n",
       "    }\n",
       "\n",
       "    .dataframe tbody tr th {\n",
       "        vertical-align: top;\n",
       "    }\n",
       "\n",
       "    .dataframe thead th {\n",
       "        text-align: right;\n",
       "    }\n",
       "</style>\n",
       "<table border=\"1\" class=\"dataframe\">\n",
       "  <thead>\n",
       "    <tr style=\"text-align: right;\">\n",
       "      <th></th>\n",
       "      <th>airport_code</th>\n",
       "      <th>airport_name</th>\n",
       "      <th>city</th>\n",
       "      <th>coordinates</th>\n",
       "      <th>timezone</th>\n",
       "    </tr>\n",
       "  </thead>\n",
       "  <tbody>\n",
       "    <tr>\n",
       "      <th>0</th>\n",
       "      <td>AAQ</td>\n",
       "      <td>{\"en\": \"Anapa Vityazevo Airport\", \"ru\": \"Витяз...</td>\n",
       "      <td>{\"en\": \"Anapa\", \"ru\": \"Анапа\"}</td>\n",
       "      <td>(37.3473014831539984,45.002101898192997)</td>\n",
       "      <td>Europe/Moscow</td>\n",
       "    </tr>\n",
       "    <tr>\n",
       "      <th>1</th>\n",
       "      <td>ABA</td>\n",
       "      <td>{\"en\": \"Abakan Airport\", \"ru\": \"Абакан\"}</td>\n",
       "      <td>{\"en\": \"Abakan\", \"ru\": \"Абакан\"}</td>\n",
       "      <td>(91.3850021362304688,53.7400016784667969)</td>\n",
       "      <td>Asia/Krasnoyarsk</td>\n",
       "    </tr>\n",
       "    <tr>\n",
       "      <th>2</th>\n",
       "      <td>AER</td>\n",
       "      <td>{\"en\": \"Sochi International Airport\", \"ru\": \"С...</td>\n",
       "      <td>{\"en\": \"Sochi\", \"ru\": \"Сочи\"}</td>\n",
       "      <td>(39.9566001892089986,43.4499015808110016)</td>\n",
       "      <td>Europe/Moscow</td>\n",
       "    </tr>\n",
       "    <tr>\n",
       "      <th>3</th>\n",
       "      <td>ARH</td>\n",
       "      <td>{\"en\": \"Talagi Airport\", \"ru\": \"Талаги\"}</td>\n",
       "      <td>{\"en\": \"Arkhangelsk\", \"ru\": \"Архангельск\"}</td>\n",
       "      <td>(40.7167015075683594,64.6003036499023438)</td>\n",
       "      <td>Europe/Moscow</td>\n",
       "    </tr>\n",
       "    <tr>\n",
       "      <th>4</th>\n",
       "      <td>ASF</td>\n",
       "      <td>{\"en\": \"Astrakhan Airport\", \"ru\": \"Астрахань\"}</td>\n",
       "      <td>{\"en\": \"Astrakhan\", \"ru\": \"Астрахань\"}</td>\n",
       "      <td>(48.0063018799000005,46.2832984924000002)</td>\n",
       "      <td>Europe/Samara</td>\n",
       "    </tr>\n",
       "  </tbody>\n",
       "</table>\n",
       "</div>"
      ],
      "text/plain": [
       "  airport_code                                       airport_name  \\\n",
       "0          AAQ  {\"en\": \"Anapa Vityazevo Airport\", \"ru\": \"Витяз...   \n",
       "1          ABA           {\"en\": \"Abakan Airport\", \"ru\": \"Абакан\"}   \n",
       "2          AER  {\"en\": \"Sochi International Airport\", \"ru\": \"С...   \n",
       "3          ARH           {\"en\": \"Talagi Airport\", \"ru\": \"Талаги\"}   \n",
       "4          ASF     {\"en\": \"Astrakhan Airport\", \"ru\": \"Астрахань\"}   \n",
       "\n",
       "                                         city  \\\n",
       "0              {\"en\": \"Anapa\", \"ru\": \"Анапа\"}   \n",
       "1            {\"en\": \"Abakan\", \"ru\": \"Абакан\"}   \n",
       "2               {\"en\": \"Sochi\", \"ru\": \"Сочи\"}   \n",
       "3  {\"en\": \"Arkhangelsk\", \"ru\": \"Архангельск\"}   \n",
       "4      {\"en\": \"Astrakhan\", \"ru\": \"Астрахань\"}   \n",
       "\n",
       "                                 coordinates          timezone  \n",
       "0   (37.3473014831539984,45.002101898192997)     Europe/Moscow  \n",
       "1  (91.3850021362304688,53.7400016784667969)  Asia/Krasnoyarsk  \n",
       "2  (39.9566001892089986,43.4499015808110016)     Europe/Moscow  \n",
       "3  (40.7167015075683594,64.6003036499023438)     Europe/Moscow  \n",
       "4  (48.0063018799000005,46.2832984924000002)     Europe/Samara  "
      ]
     },
     "execution_count": 9,
     "metadata": {},
     "output_type": "execute_result"
    }
   ],
   "source": [
    "#Creación del DF\n",
    "query = \"SELECT * FROM airports_data;\"\n",
    "\n",
    "airports_data = pd.read_sql_query(query, connection)\n",
    "airports_data.head() "
   ]
  },
  {
   "cell_type": "code",
   "execution_count": 10,
   "metadata": {},
   "outputs": [
    {
     "data": {
      "text/plain": [
       "(104, 5)"
      ]
     },
     "execution_count": 10,
     "metadata": {},
     "output_type": "execute_result"
    }
   ],
   "source": [
    "#Cantidad de filas y columnas\n",
    "np.shape(airports_data)"
   ]
  },
  {
   "cell_type": "code",
   "execution_count": 11,
   "metadata": {},
   "outputs": [
    {
     "data": {
      "text/plain": [
       "104"
      ]
     },
     "execution_count": 11,
     "metadata": {},
     "output_type": "execute_result"
    }
   ],
   "source": [
    "#Consultar cantidad de unicos columna PK\n",
    "airports_data['airport_code'].nunique()"
   ]
  },
  {
   "cell_type": "code",
   "execution_count": 12,
   "metadata": {},
   "outputs": [
    {
     "data": {
      "text/plain": [
       "airport_code    0\n",
       "airport_name    0\n",
       "city            0\n",
       "coordinates     0\n",
       "timezone        0\n",
       "dtype: int64"
      ]
     },
     "execution_count": 12,
     "metadata": {},
     "output_type": "execute_result"
    }
   ],
   "source": [
    "#Consultar nulos\n",
    "airports_data.isnull().sum() "
   ]
  },
  {
   "cell_type": "markdown",
   "metadata": {},
   "source": [
    "- Tabla boarding_passes"
   ]
  },
  {
   "cell_type": "code",
   "execution_count": 18,
   "metadata": {},
   "outputs": [
    {
     "data": {
      "text/html": [
       "<div>\n",
       "<style scoped>\n",
       "    .dataframe tbody tr th:only-of-type {\n",
       "        vertical-align: middle;\n",
       "    }\n",
       "\n",
       "    .dataframe tbody tr th {\n",
       "        vertical-align: top;\n",
       "    }\n",
       "\n",
       "    .dataframe thead th {\n",
       "        text-align: right;\n",
       "    }\n",
       "</style>\n",
       "<table border=\"1\" class=\"dataframe\">\n",
       "  <thead>\n",
       "    <tr style=\"text-align: right;\">\n",
       "      <th></th>\n",
       "      <th>ticket_no</th>\n",
       "      <th>flight_id</th>\n",
       "      <th>boarding_no</th>\n",
       "      <th>seat_no</th>\n",
       "    </tr>\n",
       "  </thead>\n",
       "  <tbody>\n",
       "    <tr>\n",
       "      <th>0</th>\n",
       "      <td>0005432000987</td>\n",
       "      <td>28935</td>\n",
       "      <td>10</td>\n",
       "      <td>7A</td>\n",
       "    </tr>\n",
       "    <tr>\n",
       "      <th>1</th>\n",
       "      <td>0005432000988</td>\n",
       "      <td>28935</td>\n",
       "      <td>14</td>\n",
       "      <td>10E</td>\n",
       "    </tr>\n",
       "    <tr>\n",
       "      <th>2</th>\n",
       "      <td>0005432000989</td>\n",
       "      <td>28939</td>\n",
       "      <td>27</td>\n",
       "      <td>18E</td>\n",
       "    </tr>\n",
       "    <tr>\n",
       "      <th>3</th>\n",
       "      <td>0005432000990</td>\n",
       "      <td>28939</td>\n",
       "      <td>2</td>\n",
       "      <td>3F</td>\n",
       "    </tr>\n",
       "    <tr>\n",
       "      <th>4</th>\n",
       "      <td>0005432000991</td>\n",
       "      <td>28913</td>\n",
       "      <td>1</td>\n",
       "      <td>1D</td>\n",
       "    </tr>\n",
       "  </tbody>\n",
       "</table>\n",
       "</div>"
      ],
      "text/plain": [
       "       ticket_no  flight_id  boarding_no seat_no\n",
       "0  0005432000987      28935           10      7A\n",
       "1  0005432000988      28935           14     10E\n",
       "2  0005432000989      28939           27     18E\n",
       "3  0005432000990      28939            2      3F\n",
       "4  0005432000991      28913            1      1D"
      ]
     },
     "execution_count": 18,
     "metadata": {},
     "output_type": "execute_result"
    }
   ],
   "source": [
    "#Creación del DF\n",
    "query = \"SELECT * FROM boarding_passes;\"\n",
    "\n",
    "boarding_passes = pd.read_sql_query(query, connection)\n",
    "boarding_passes.head() "
   ]
  },
  {
   "cell_type": "code",
   "execution_count": 14,
   "metadata": {},
   "outputs": [
    {
     "data": {
      "text/plain": [
       "(579686, 4)"
      ]
     },
     "execution_count": 14,
     "metadata": {},
     "output_type": "execute_result"
    }
   ],
   "source": [
    "#Cantidad de filas y columnas\n",
    "np.shape(boarding_passes)"
   ]
  },
  {
   "cell_type": "code",
   "execution_count": 15,
   "metadata": {},
   "outputs": [
    {
     "name": "stdout",
     "output_type": "stream",
     "text": [
      "Todas las combinaciones de 'ticket_no' y 'flight_id' son únicas.\n"
     ]
    }
   ],
   "source": [
    "# Verificar si las combinaciones son únicas\n",
    "combinaciones_unicas = not boarding_passes.duplicated(subset=['ticket_no', 'flight_id']).any()\n",
    "\n",
    "if combinaciones_unicas:\n",
    "    print(\"Todas las combinaciones de 'ticket_no' y 'flight_id' son únicas.\")\n",
    "else:\n",
    "    print(\"Hay combinaciones duplicadas de 'ticket_no' y 'flight_id'.\")\n"
   ]
  },
  {
   "cell_type": "code",
   "execution_count": 16,
   "metadata": {},
   "outputs": [
    {
     "data": {
      "text/plain": [
       "ticket_no      0\n",
       "flight_id      0\n",
       "boarding_no    0\n",
       "seat_no        0\n",
       "dtype: int64"
      ]
     },
     "execution_count": 16,
     "metadata": {},
     "output_type": "execute_result"
    }
   ],
   "source": [
    "#Consultar nulos\n",
    "boarding_passes.isnull().sum() "
   ]
  },
  {
   "cell_type": "markdown",
   "metadata": {},
   "source": [
    "- Tabla bookings"
   ]
  },
  {
   "cell_type": "code",
   "execution_count": 19,
   "metadata": {},
   "outputs": [
    {
     "data": {
      "text/html": [
       "<div>\n",
       "<style scoped>\n",
       "    .dataframe tbody tr th:only-of-type {\n",
       "        vertical-align: middle;\n",
       "    }\n",
       "\n",
       "    .dataframe tbody tr th {\n",
       "        vertical-align: top;\n",
       "    }\n",
       "\n",
       "    .dataframe thead th {\n",
       "        text-align: right;\n",
       "    }\n",
       "</style>\n",
       "<table border=\"1\" class=\"dataframe\">\n",
       "  <thead>\n",
       "    <tr style=\"text-align: right;\">\n",
       "      <th></th>\n",
       "      <th>book_ref</th>\n",
       "      <th>book_date</th>\n",
       "      <th>total_amount</th>\n",
       "    </tr>\n",
       "  </thead>\n",
       "  <tbody>\n",
       "    <tr>\n",
       "      <th>0</th>\n",
       "      <td>00000F</td>\n",
       "      <td>2017-07-05 03:12:00</td>\n",
       "      <td>265700</td>\n",
       "    </tr>\n",
       "    <tr>\n",
       "      <th>1</th>\n",
       "      <td>000012</td>\n",
       "      <td>2017-07-14 09:02:00</td>\n",
       "      <td>37900</td>\n",
       "    </tr>\n",
       "    <tr>\n",
       "      <th>2</th>\n",
       "      <td>000068</td>\n",
       "      <td>2017-08-15 14:27:00</td>\n",
       "      <td>18100</td>\n",
       "    </tr>\n",
       "    <tr>\n",
       "      <th>3</th>\n",
       "      <td>000181</td>\n",
       "      <td>2017-08-10 13:28:00</td>\n",
       "      <td>131800</td>\n",
       "    </tr>\n",
       "    <tr>\n",
       "      <th>4</th>\n",
       "      <td>0002D8</td>\n",
       "      <td>2017-08-07 21:40:00</td>\n",
       "      <td>23600</td>\n",
       "    </tr>\n",
       "  </tbody>\n",
       "</table>\n",
       "</div>"
      ],
      "text/plain": [
       "  book_ref           book_date  total_amount\n",
       "0   00000F 2017-07-05 03:12:00        265700\n",
       "1   000012 2017-07-14 09:02:00         37900\n",
       "2   000068 2017-08-15 14:27:00         18100\n",
       "3   000181 2017-08-10 13:28:00        131800\n",
       "4   0002D8 2017-08-07 21:40:00         23600"
      ]
     },
     "execution_count": 19,
     "metadata": {},
     "output_type": "execute_result"
    }
   ],
   "source": [
    "#Creación del DF\n",
    "query = \"SELECT * FROM bookings;\"\n",
    "\n",
    "bookings = pd.read_sql_query(query, connection)\n",
    "bookings.head() "
   ]
  },
  {
   "cell_type": "code",
   "execution_count": 20,
   "metadata": {},
   "outputs": [
    {
     "data": {
      "text/plain": [
       "(262788, 3)"
      ]
     },
     "execution_count": 20,
     "metadata": {},
     "output_type": "execute_result"
    }
   ],
   "source": [
    "#Cantidad de filas y columnas\n",
    "np.shape(bookings)"
   ]
  },
  {
   "cell_type": "code",
   "execution_count": 21,
   "metadata": {},
   "outputs": [
    {
     "data": {
      "text/plain": [
       "262788"
      ]
     },
     "execution_count": 21,
     "metadata": {},
     "output_type": "execute_result"
    }
   ],
   "source": [
    "#Consultar cantidad de unicos columna PK\n",
    "bookings['book_ref'].nunique()"
   ]
  },
  {
   "cell_type": "code",
   "execution_count": 22,
   "metadata": {},
   "outputs": [
    {
     "data": {
      "text/plain": [
       "book_ref        0\n",
       "book_date       0\n",
       "total_amount    0\n",
       "dtype: int64"
      ]
     },
     "execution_count": 22,
     "metadata": {},
     "output_type": "execute_result"
    }
   ],
   "source": [
    "#Consultar nulos\n",
    "bookings.isnull().sum() "
   ]
  },
  {
   "cell_type": "markdown",
   "metadata": {},
   "source": [
    "- Tabla flights"
   ]
  },
  {
   "cell_type": "code",
   "execution_count": 23,
   "metadata": {},
   "outputs": [
    {
     "data": {
      "text/html": [
       "<div>\n",
       "<style scoped>\n",
       "    .dataframe tbody tr th:only-of-type {\n",
       "        vertical-align: middle;\n",
       "    }\n",
       "\n",
       "    .dataframe tbody tr th {\n",
       "        vertical-align: top;\n",
       "    }\n",
       "\n",
       "    .dataframe thead th {\n",
       "        text-align: right;\n",
       "    }\n",
       "</style>\n",
       "<table border=\"1\" class=\"dataframe\">\n",
       "  <thead>\n",
       "    <tr style=\"text-align: right;\">\n",
       "      <th></th>\n",
       "      <th>flight_id</th>\n",
       "      <th>flight_no</th>\n",
       "      <th>scheduled_departure</th>\n",
       "      <th>scheduled_arrival</th>\n",
       "      <th>departure_airport</th>\n",
       "      <th>arrival_airport</th>\n",
       "      <th>status</th>\n",
       "      <th>aircraft_code</th>\n",
       "      <th>actual_departure</th>\n",
       "      <th>actual_arrival</th>\n",
       "    </tr>\n",
       "  </thead>\n",
       "  <tbody>\n",
       "    <tr>\n",
       "      <th>0</th>\n",
       "      <td>1</td>\n",
       "      <td>PG0405</td>\n",
       "      <td>2017-07-16 09:35:00</td>\n",
       "      <td>2017-07-16 10:30:00</td>\n",
       "      <td>DME</td>\n",
       "      <td>LED</td>\n",
       "      <td>Arrived</td>\n",
       "      <td>321</td>\n",
       "      <td>2017-07-16 09:44:00+03</td>\n",
       "      <td>2017-07-16 10:39:00+03</td>\n",
       "    </tr>\n",
       "    <tr>\n",
       "      <th>1</th>\n",
       "      <td>2</td>\n",
       "      <td>PG0404</td>\n",
       "      <td>2017-08-05 19:05:00</td>\n",
       "      <td>2017-08-05 20:00:00</td>\n",
       "      <td>DME</td>\n",
       "      <td>LED</td>\n",
       "      <td>Arrived</td>\n",
       "      <td>321</td>\n",
       "      <td>2017-08-05 19:06:00+03</td>\n",
       "      <td>2017-08-05 20:01:00+03</td>\n",
       "    </tr>\n",
       "    <tr>\n",
       "      <th>2</th>\n",
       "      <td>3</td>\n",
       "      <td>PG0405</td>\n",
       "      <td>2017-08-05 09:35:00</td>\n",
       "      <td>2017-08-05 10:30:00</td>\n",
       "      <td>DME</td>\n",
       "      <td>LED</td>\n",
       "      <td>Arrived</td>\n",
       "      <td>321</td>\n",
       "      <td>2017-08-05 09:39:00+03</td>\n",
       "      <td>2017-08-05 10:34:00+03</td>\n",
       "    </tr>\n",
       "    <tr>\n",
       "      <th>3</th>\n",
       "      <td>4</td>\n",
       "      <td>PG0402</td>\n",
       "      <td>2017-09-09 12:25:00</td>\n",
       "      <td>2017-09-09 13:20:00</td>\n",
       "      <td>DME</td>\n",
       "      <td>LED</td>\n",
       "      <td>Scheduled</td>\n",
       "      <td>321</td>\n",
       "      <td>\\N</td>\n",
       "      <td>\\N</td>\n",
       "    </tr>\n",
       "    <tr>\n",
       "      <th>4</th>\n",
       "      <td>5</td>\n",
       "      <td>PG0405</td>\n",
       "      <td>2017-08-16 09:35:00</td>\n",
       "      <td>2017-08-16 10:30:00</td>\n",
       "      <td>DME</td>\n",
       "      <td>LED</td>\n",
       "      <td>On Time</td>\n",
       "      <td>321</td>\n",
       "      <td>\\N</td>\n",
       "      <td>\\N</td>\n",
       "    </tr>\n",
       "  </tbody>\n",
       "</table>\n",
       "</div>"
      ],
      "text/plain": [
       "   flight_id flight_no scheduled_departure   scheduled_arrival  \\\n",
       "0          1    PG0405 2017-07-16 09:35:00 2017-07-16 10:30:00   \n",
       "1          2    PG0404 2017-08-05 19:05:00 2017-08-05 20:00:00   \n",
       "2          3    PG0405 2017-08-05 09:35:00 2017-08-05 10:30:00   \n",
       "3          4    PG0402 2017-09-09 12:25:00 2017-09-09 13:20:00   \n",
       "4          5    PG0405 2017-08-16 09:35:00 2017-08-16 10:30:00   \n",
       "\n",
       "  departure_airport arrival_airport     status aircraft_code  \\\n",
       "0               DME             LED    Arrived           321   \n",
       "1               DME             LED    Arrived           321   \n",
       "2               DME             LED    Arrived           321   \n",
       "3               DME             LED  Scheduled           321   \n",
       "4               DME             LED    On Time           321   \n",
       "\n",
       "         actual_departure          actual_arrival  \n",
       "0  2017-07-16 09:44:00+03  2017-07-16 10:39:00+03  \n",
       "1  2017-08-05 19:06:00+03  2017-08-05 20:01:00+03  \n",
       "2  2017-08-05 09:39:00+03  2017-08-05 10:34:00+03  \n",
       "3                      \\N                      \\N  \n",
       "4                      \\N                      \\N  "
      ]
     },
     "execution_count": 23,
     "metadata": {},
     "output_type": "execute_result"
    }
   ],
   "source": [
    "#Creación del DF\n",
    "query = \"SELECT * FROM flights;\"\n",
    "\n",
    "flights = pd.read_sql_query(query, connection)\n",
    "flights.head() "
   ]
  },
  {
   "cell_type": "code",
   "execution_count": 25,
   "metadata": {},
   "outputs": [
    {
     "data": {
      "text/plain": [
       "(33121, 10)"
      ]
     },
     "execution_count": 25,
     "metadata": {},
     "output_type": "execute_result"
    }
   ],
   "source": [
    "#Cantidad de filas y columnas\n",
    "np.shape(flights)"
   ]
  },
  {
   "cell_type": "code",
   "execution_count": 26,
   "metadata": {},
   "outputs": [
    {
     "data": {
      "text/plain": [
       "33121"
      ]
     },
     "execution_count": 26,
     "metadata": {},
     "output_type": "execute_result"
    }
   ],
   "source": [
    "#Consultar cantidad de unicos columna PK\n",
    "flights['flight_id'].nunique()"
   ]
  },
  {
   "cell_type": "code",
   "execution_count": 27,
   "metadata": {},
   "outputs": [
    {
     "data": {
      "text/plain": [
       "flight_id              0\n",
       "flight_no              0\n",
       "scheduled_departure    0\n",
       "scheduled_arrival      0\n",
       "departure_airport      0\n",
       "arrival_airport        0\n",
       "status                 0\n",
       "aircraft_code          0\n",
       "actual_departure       0\n",
       "actual_arrival         0\n",
       "dtype: int64"
      ]
     },
     "execution_count": 27,
     "metadata": {},
     "output_type": "execute_result"
    }
   ],
   "source": [
    "#Consultar nulos\n",
    "flights.isnull().sum() "
   ]
  },
  {
   "cell_type": "markdown",
   "metadata": {},
   "source": [
    "- Tabla seats"
   ]
  },
  {
   "cell_type": "code",
   "execution_count": 28,
   "metadata": {},
   "outputs": [
    {
     "data": {
      "text/html": [
       "<div>\n",
       "<style scoped>\n",
       "    .dataframe tbody tr th:only-of-type {\n",
       "        vertical-align: middle;\n",
       "    }\n",
       "\n",
       "    .dataframe tbody tr th {\n",
       "        vertical-align: top;\n",
       "    }\n",
       "\n",
       "    .dataframe thead th {\n",
       "        text-align: right;\n",
       "    }\n",
       "</style>\n",
       "<table border=\"1\" class=\"dataframe\">\n",
       "  <thead>\n",
       "    <tr style=\"text-align: right;\">\n",
       "      <th></th>\n",
       "      <th>aircraft_code</th>\n",
       "      <th>seat_no</th>\n",
       "      <th>fare_conditions</th>\n",
       "    </tr>\n",
       "  </thead>\n",
       "  <tbody>\n",
       "    <tr>\n",
       "      <th>0</th>\n",
       "      <td>319</td>\n",
       "      <td>10A</td>\n",
       "      <td>Economy</td>\n",
       "    </tr>\n",
       "    <tr>\n",
       "      <th>1</th>\n",
       "      <td>319</td>\n",
       "      <td>10B</td>\n",
       "      <td>Economy</td>\n",
       "    </tr>\n",
       "    <tr>\n",
       "      <th>2</th>\n",
       "      <td>319</td>\n",
       "      <td>10C</td>\n",
       "      <td>Economy</td>\n",
       "    </tr>\n",
       "    <tr>\n",
       "      <th>3</th>\n",
       "      <td>319</td>\n",
       "      <td>10D</td>\n",
       "      <td>Economy</td>\n",
       "    </tr>\n",
       "    <tr>\n",
       "      <th>4</th>\n",
       "      <td>319</td>\n",
       "      <td>10E</td>\n",
       "      <td>Economy</td>\n",
       "    </tr>\n",
       "  </tbody>\n",
       "</table>\n",
       "</div>"
      ],
      "text/plain": [
       "  aircraft_code seat_no fare_conditions\n",
       "0           319     10A         Economy\n",
       "1           319     10B         Economy\n",
       "2           319     10C         Economy\n",
       "3           319     10D         Economy\n",
       "4           319     10E         Economy"
      ]
     },
     "execution_count": 28,
     "metadata": {},
     "output_type": "execute_result"
    }
   ],
   "source": [
    "#Creación del DF\n",
    "query = \"SELECT * FROM seats;\"\n",
    "\n",
    "seats = pd.read_sql_query(query, connection)\n",
    "seats.head() "
   ]
  },
  {
   "cell_type": "code",
   "execution_count": 29,
   "metadata": {},
   "outputs": [
    {
     "data": {
      "text/plain": [
       "(1339, 3)"
      ]
     },
     "execution_count": 29,
     "metadata": {},
     "output_type": "execute_result"
    }
   ],
   "source": [
    "#Cantidad de filas y columnas\n",
    "np.shape(seats)"
   ]
  },
  {
   "cell_type": "code",
   "execution_count": 30,
   "metadata": {},
   "outputs": [
    {
     "name": "stdout",
     "output_type": "stream",
     "text": [
      "Todas las combinaciones de 'aircraft_code' y 'seat_no' son únicas.\n"
     ]
    }
   ],
   "source": [
    "# Verificar si las combinaciones son únicas\n",
    "combinaciones_unicas = not seats.duplicated(subset=['aircraft_code', 'seat_no']).any()\n",
    "\n",
    "if combinaciones_unicas:\n",
    "    print(\"Todas las combinaciones de 'aircraft_code' y 'seat_no' son únicas.\")\n",
    "else:\n",
    "    print(\"Hay combinaciones duplicadas de 'aircraft_code' y 'seat_no'.\")"
   ]
  },
  {
   "cell_type": "code",
   "execution_count": 31,
   "metadata": {},
   "outputs": [
    {
     "data": {
      "text/plain": [
       "aircraft_code      0\n",
       "seat_no            0\n",
       "fare_conditions    0\n",
       "dtype: int64"
      ]
     },
     "execution_count": 31,
     "metadata": {},
     "output_type": "execute_result"
    }
   ],
   "source": [
    "#Consultar nulos\n",
    "seats.isnull().sum() "
   ]
  },
  {
   "cell_type": "markdown",
   "metadata": {},
   "source": [
    "- Tabla ticket_flights"
   ]
  },
  {
   "cell_type": "code",
   "execution_count": 32,
   "metadata": {},
   "outputs": [
    {
     "data": {
      "text/html": [
       "<div>\n",
       "<style scoped>\n",
       "    .dataframe tbody tr th:only-of-type {\n",
       "        vertical-align: middle;\n",
       "    }\n",
       "\n",
       "    .dataframe tbody tr th {\n",
       "        vertical-align: top;\n",
       "    }\n",
       "\n",
       "    .dataframe thead th {\n",
       "        text-align: right;\n",
       "    }\n",
       "</style>\n",
       "<table border=\"1\" class=\"dataframe\">\n",
       "  <thead>\n",
       "    <tr style=\"text-align: right;\">\n",
       "      <th></th>\n",
       "      <th>ticket_no</th>\n",
       "      <th>flight_id</th>\n",
       "      <th>fare_conditions</th>\n",
       "      <th>amount</th>\n",
       "    </tr>\n",
       "  </thead>\n",
       "  <tbody>\n",
       "    <tr>\n",
       "      <th>0</th>\n",
       "      <td>5432159776</td>\n",
       "      <td>30625</td>\n",
       "      <td>Business</td>\n",
       "      <td>42100</td>\n",
       "    </tr>\n",
       "    <tr>\n",
       "      <th>1</th>\n",
       "      <td>5435212351</td>\n",
       "      <td>30625</td>\n",
       "      <td>Business</td>\n",
       "      <td>42100</td>\n",
       "    </tr>\n",
       "    <tr>\n",
       "      <th>2</th>\n",
       "      <td>5435212386</td>\n",
       "      <td>30625</td>\n",
       "      <td>Business</td>\n",
       "      <td>42100</td>\n",
       "    </tr>\n",
       "    <tr>\n",
       "      <th>3</th>\n",
       "      <td>5435212381</td>\n",
       "      <td>30625</td>\n",
       "      <td>Business</td>\n",
       "      <td>42100</td>\n",
       "    </tr>\n",
       "    <tr>\n",
       "      <th>4</th>\n",
       "      <td>5432211370</td>\n",
       "      <td>30625</td>\n",
       "      <td>Business</td>\n",
       "      <td>42100</td>\n",
       "    </tr>\n",
       "  </tbody>\n",
       "</table>\n",
       "</div>"
      ],
      "text/plain": [
       "    ticket_no  flight_id fare_conditions  amount\n",
       "0  5432159776      30625        Business   42100\n",
       "1  5435212351      30625        Business   42100\n",
       "2  5435212386      30625        Business   42100\n",
       "3  5435212381      30625        Business   42100\n",
       "4  5432211370      30625        Business   42100"
      ]
     },
     "execution_count": 32,
     "metadata": {},
     "output_type": "execute_result"
    }
   ],
   "source": [
    "#Creación del DF\n",
    "query = \"SELECT * FROM ticket_flights;\"\n",
    "\n",
    "ticket_flights = pd.read_sql_query(query, connection)\n",
    "ticket_flights.head() "
   ]
  },
  {
   "cell_type": "code",
   "execution_count": 33,
   "metadata": {},
   "outputs": [
    {
     "data": {
      "text/plain": [
       "(1045726, 4)"
      ]
     },
     "execution_count": 33,
     "metadata": {},
     "output_type": "execute_result"
    }
   ],
   "source": [
    "#Cantidad de filas y columnas\n",
    "np.shape(ticket_flights)"
   ]
  },
  {
   "cell_type": "code",
   "execution_count": 34,
   "metadata": {},
   "outputs": [
    {
     "name": "stdout",
     "output_type": "stream",
     "text": [
      "Todas las combinaciones de 'ticket_no' y 'flight_id' son únicas.\n"
     ]
    }
   ],
   "source": [
    "# Verificar si las combinaciones son únicas\n",
    "combinaciones_unicas = not ticket_flights.duplicated(subset=['ticket_no', 'flight_id']).any()\n",
    "\n",
    "if combinaciones_unicas:\n",
    "    print(\"Todas las combinaciones de 'ticket_no' y 'flight_id' son únicas.\")\n",
    "else:\n",
    "    print(\"Hay combinaciones duplicadas de 'ticket_no' y 'flight_id'.\")"
   ]
  },
  {
   "cell_type": "code",
   "execution_count": 35,
   "metadata": {},
   "outputs": [
    {
     "data": {
      "text/plain": [
       "ticket_no          0\n",
       "flight_id          0\n",
       "fare_conditions    0\n",
       "amount             0\n",
       "dtype: int64"
      ]
     },
     "execution_count": 35,
     "metadata": {},
     "output_type": "execute_result"
    }
   ],
   "source": [
    "#Consultar nulos\n",
    "ticket_flights.isnull().sum() "
   ]
  },
  {
   "cell_type": "markdown",
   "metadata": {},
   "source": [
    "- Tabla tickets"
   ]
  },
  {
   "cell_type": "code",
   "execution_count": 36,
   "metadata": {},
   "outputs": [
    {
     "data": {
      "text/html": [
       "<div>\n",
       "<style scoped>\n",
       "    .dataframe tbody tr th:only-of-type {\n",
       "        vertical-align: middle;\n",
       "    }\n",
       "\n",
       "    .dataframe tbody tr th {\n",
       "        vertical-align: top;\n",
       "    }\n",
       "\n",
       "    .dataframe thead th {\n",
       "        text-align: right;\n",
       "    }\n",
       "</style>\n",
       "<table border=\"1\" class=\"dataframe\">\n",
       "  <thead>\n",
       "    <tr style=\"text-align: right;\">\n",
       "      <th></th>\n",
       "      <th>ticket_no</th>\n",
       "      <th>book_ref</th>\n",
       "      <th>passenger_id</th>\n",
       "    </tr>\n",
       "  </thead>\n",
       "  <tbody>\n",
       "    <tr>\n",
       "      <th>0</th>\n",
       "      <td>5432000987</td>\n",
       "      <td>06B046</td>\n",
       "      <td>8149 604011</td>\n",
       "    </tr>\n",
       "    <tr>\n",
       "      <th>1</th>\n",
       "      <td>5432000988</td>\n",
       "      <td>06B046</td>\n",
       "      <td>8499 420203</td>\n",
       "    </tr>\n",
       "    <tr>\n",
       "      <th>2</th>\n",
       "      <td>5432000989</td>\n",
       "      <td>E170C3</td>\n",
       "      <td>1011 752484</td>\n",
       "    </tr>\n",
       "    <tr>\n",
       "      <th>3</th>\n",
       "      <td>5432000990</td>\n",
       "      <td>E170C3</td>\n",
       "      <td>4849 400049</td>\n",
       "    </tr>\n",
       "    <tr>\n",
       "      <th>4</th>\n",
       "      <td>5432000991</td>\n",
       "      <td>F313DD</td>\n",
       "      <td>6615 976589</td>\n",
       "    </tr>\n",
       "  </tbody>\n",
       "</table>\n",
       "</div>"
      ],
      "text/plain": [
       "    ticket_no book_ref passenger_id\n",
       "0  5432000987   06B046  8149 604011\n",
       "1  5432000988   06B046  8499 420203\n",
       "2  5432000989   E170C3  1011 752484\n",
       "3  5432000990   E170C3  4849 400049\n",
       "4  5432000991   F313DD  6615 976589"
      ]
     },
     "execution_count": 36,
     "metadata": {},
     "output_type": "execute_result"
    }
   ],
   "source": [
    "#Creación del DF\n",
    "query = \"SELECT * FROM tickets;\"\n",
    "\n",
    "tickets = pd.read_sql_query(query, connection)\n",
    "tickets.head() "
   ]
  },
  {
   "cell_type": "code",
   "execution_count": 37,
   "metadata": {},
   "outputs": [
    {
     "data": {
      "text/plain": [
       "(366733, 3)"
      ]
     },
     "execution_count": 37,
     "metadata": {},
     "output_type": "execute_result"
    }
   ],
   "source": [
    "#Cantidad de filas y columnas\n",
    "np.shape(tickets)"
   ]
  },
  {
   "cell_type": "code",
   "execution_count": 38,
   "metadata": {},
   "outputs": [
    {
     "data": {
      "text/plain": [
       "366733"
      ]
     },
     "execution_count": 38,
     "metadata": {},
     "output_type": "execute_result"
    }
   ],
   "source": [
    "#Consultar cantidad de unicos columna PK\n",
    "tickets['ticket_no'].nunique()"
   ]
  },
  {
   "cell_type": "code",
   "execution_count": 39,
   "metadata": {},
   "outputs": [
    {
     "data": {
      "text/plain": [
       "ticket_no       0\n",
       "book_ref        0\n",
       "passenger_id    0\n",
       "dtype: int64"
      ]
     },
     "execution_count": 39,
     "metadata": {},
     "output_type": "execute_result"
    }
   ],
   "source": [
    "#Consultar nulos\n",
    "tickets.isnull().sum() "
   ]
  }
 ],
 "metadata": {
  "kernelspec": {
   "display_name": "Python 3",
   "language": "python",
   "name": "python3"
  },
  "language_info": {
   "codemirror_mode": {
    "name": "ipython",
    "version": 3
   },
   "file_extension": ".py",
   "mimetype": "text/x-python",
   "name": "python",
   "nbconvert_exporter": "python",
   "pygments_lexer": "ipython3",
   "version": "3.12.6"
  }
 },
 "nbformat": 4,
 "nbformat_minor": 2
}
