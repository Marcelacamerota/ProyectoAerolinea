{
 "cells": [
  {
   "cell_type": "markdown",
   "metadata": {},
   "source": [
    "### Importar librerias"
   ]
  },
  {
   "cell_type": "code",
   "execution_count": 1,
   "metadata": {},
   "outputs": [],
   "source": [
    "import pyodbc"
   ]
  },
  {
   "cell_type": "markdown",
   "metadata": {},
   "source": [
    "### Desactivar warnings"
   ]
  },
  {
   "cell_type": "code",
   "execution_count": null,
   "metadata": {},
   "outputs": [],
   "source": [
    "import warnings\n",
    "warnings.filterwarnings('ignore')"
   ]
  },
  {
   "cell_type": "markdown",
   "metadata": {},
   "source": [
    "### Conectar a la base de datos en SQL Server"
   ]
  },
  {
   "cell_type": "code",
   "execution_count": null,
   "metadata": {},
   "outputs": [],
   "source": [
    "# creo variables con los datos para la conexion\n",
    "server = 'DESKTOP-LLA8UAG\\SQLEXPRESS'\n",
    "database = 'Airline'\n",
    "driver = 'ODBC Driver 17 for SQL Server'\n",
    "\n",
    "# cadena con los datos para la conexion\n",
    "conn_str = f'DRIVER={{{driver}}}; SERVER={server};DATABASE={database};Trusted_Connection=yes;'\n",
    "\n",
    "# metodo de conexion \"connect\" a la base de datos\n",
    "connection = pyodbc.connect(conn_str)"
   ]
  },
  {
   "cell_type": "markdown",
   "metadata": {},
   "source": [
    "## Inserts automatizados"
   ]
  },
  {
   "cell_type": "code",
   "execution_count": 9,
   "metadata": {},
   "outputs": [],
   "source": [
    "def insert_aircrafts_data(aircraft_code, model, range):\n",
    "    cursor = connection.cursor()\n",
    "    query = '''INSERT INTO aircrafts_data (aircraft_code, model, range)\n",
    "        VALUES ('{}', '{}', {})'''.format(aircraft_code, model, range)\n",
    "    cursor.execute(query)\n",
    "    result = cursor.rowcount\n",
    "    cursor.commit()\n",
    "    cursor.close()\n",
    "    return result"
   ]
  },
  {
   "cell_type": "code",
   "execution_count": null,
   "metadata": {},
   "outputs": [],
   "source": [
    "def insert_airports_data(airport_code, airport_name, city, coordinates, timezone):\n",
    "    cursor = connection.cursor()\n",
    "    query = '''INSERT INTO airports_data (airport_code, airport_name, city, coordinates, timezone)\n",
    "        VALUES ('{}', '{}', '{}', '{}', '{}')'''.format(airport_code, airport_name, city, coordinates, timezone)\n",
    "    cursor.execute(query)\n",
    "    result = cursor.rowcount\n",
    "    cursor.commit()\n",
    "    cursor.close()\n",
    "    return result"
   ]
  },
  {
   "cell_type": "code",
   "execution_count": null,
   "metadata": {},
   "outputs": [],
   "source": [
    "def insert_boarding_passes(ticket_no, flight_id, boarding_no, seat_no):\n",
    "    cursor = connection.cursor()\n",
    "    query = '''INSERT INTO boarding_passes (ticket_no, flight_id, boarding_no, seat_no)\n",
    "        VALUES ('{}', {}, {}, '{}')'''.format(ticket_no, flight_id, boarding_no, seat_no)\n",
    "    cursor.execute(query)\n",
    "    result = cursor.rowcount\n",
    "    cursor.commit()\n",
    "    cursor.close()\n",
    "    return result"
   ]
  },
  {
   "cell_type": "code",
   "execution_count": null,
   "metadata": {},
   "outputs": [],
   "source": [
    "def insert_bookings(book_ref, book_date, total_amount):\n",
    "    cursor = connection.cursor()\n",
    "    query = '''INSERT INTO bookings (book_ref, book_date, total_amount)\n",
    "        VALUES ('{}', '{}', {})'''.format(book_ref, book_date, total_amount)\n",
    "    cursor.execute(query)\n",
    "    result = cursor.rowcount\n",
    "    cursor.commit()\n",
    "    cursor.close()\n",
    "    return result"
   ]
  },
  {
   "cell_type": "code",
   "execution_count": null,
   "metadata": {},
   "outputs": [],
   "source": [
    "def insert_flights(flight_id, flight_no, scheduled_departure, scheduled_arrival, departure_airport, arrival_airport, status, aircraft_code, actual_departure, actual_arrival):\n",
    "    cursor = connection.cursor()\n",
    "    query = '''INSERT INTO flights (flight_id, flight_no, scheduled_departure, scheduled_arrival, departure_airport, arrival_airport, status, aircraft_code, actual_departure, actual_arrival)\n",
    "        VALUES ({}, '{}', '{}', '{}', '{}', '{}', '{}', '{}', '{}', '{}')'''.format(flight_id, flight_no, scheduled_departure, scheduled_arrival, departure_airport, arrival_airport, status, aircraft_code, actual_departure, actual_arrival)\n",
    "    cursor.execute(query)\n",
    "    result = cursor.rowcount\n",
    "    cursor.commit()\n",
    "    cursor.close()\n",
    "    return result"
   ]
  },
  {
   "cell_type": "code",
   "execution_count": null,
   "metadata": {},
   "outputs": [],
   "source": [
    "def insert_seats(aircraft_code, seat_no, fare_conditions):\n",
    "    cursor = connection.cursor()\n",
    "    query = '''INSERT INTO seats (aircraft_code, seat_no, fare_conditions)\n",
    "        VALUES ('{}', '{}', '{}')'''.format(aircraft_code, seat_no, fare_conditions)\n",
    "    cursor.execute(query)\n",
    "    result = cursor.rowcount\n",
    "    cursor.commit()\n",
    "    cursor.close()\n",
    "    return result"
   ]
  },
  {
   "cell_type": "code",
   "execution_count": null,
   "metadata": {},
   "outputs": [],
   "source": [
    "def insert_ticket_flights(ticket_no, flight_id, fare_conditions, amount):\n",
    "    cursor = connection.cursor()\n",
    "    query = '''INSERT INTO ticket_flights (ticket_no, flight_id, fare_conditions, amount)\n",
    "        VALUES ({}, {}, '{}', {})'''.format(ticket_no, flight_id, fare_conditions, amount)\n",
    "    cursor.execute(query)\n",
    "    result = cursor.rowcount\n",
    "    cursor.commit()\n",
    "    cursor.close()\n",
    "    return result"
   ]
  },
  {
   "cell_type": "code",
   "execution_count": null,
   "metadata": {},
   "outputs": [],
   "source": [
    "def insert_tickets(ticket_no, book_ref, passenger_id):\n",
    "    cursor = connection.cursor()\n",
    "    query = '''INSERT INTO tickets (ticket_no, book_ref, passenger_id)\n",
    "        VALUES ({}, '{}', '{}')'''.format(ticket_no, book_ref, passenger_id)\n",
    "    cursor.execute(query)\n",
    "    result = cursor.rowcount\n",
    "    cursor.commit()\n",
    "    cursor.close()\n",
    "    return result"
   ]
  },
  {
   "cell_type": "markdown",
   "metadata": {},
   "source": [
    "### Pruebas de inserts"
   ]
  },
  {
   "cell_type": "code",
   "execution_count": 10,
   "metadata": {},
   "outputs": [
    {
     "name": "stdout",
     "output_type": "stream",
     "text": [
      "1\n"
     ]
    }
   ],
   "source": [
    "print(insert_aircrafts_data('999', '{\"en\": \"f14 tomkat\", \"ru\": \"test avion\"}', 1414))"
   ]
  },
  {
   "cell_type": "code",
   "execution_count": null,
   "metadata": {},
   "outputs": [],
   "source": [
    "print(insert_airports_data('AAA', '{\"en\": \"aeropuerto en ingles\", \"ru\": \"aeropuerto en ruso\"}', '{\"en\": \"city ingles\", \"ru\": \"city ruso\"}', '(123456, 87964)', 'Europa/Moscu'))"
   ]
  },
  {
   "cell_type": "code",
   "execution_count": 21,
   "metadata": {},
   "outputs": [
    {
     "name": "stdout",
     "output_type": "stream",
     "text": [
      "1\n"
     ]
    }
   ],
   "source": [
    "print(insert_boarding_passes('000564238', 9999, 60, '10A'))"
   ]
  },
  {
   "cell_type": "code",
   "execution_count": 24,
   "metadata": {},
   "outputs": [
    {
     "name": "stdout",
     "output_type": "stream",
     "text": [
      "1\n"
     ]
    }
   ],
   "source": [
    "print(insert_bookings('0ZZ999', '2024-11-24 20:30:00.0300000', 80000))"
   ]
  },
  {
   "cell_type": "code",
   "execution_count": 7,
   "metadata": {},
   "outputs": [
    {
     "name": "stdout",
     "output_type": "stream",
     "text": [
      "1\n"
     ]
    }
   ],
   "source": [
    "print(insert_flights(999999, 'MC1780', '2024-11-24 20:30:00.0300000', '2024-11-24 23:30:00.0300000', 'MRM', 'MAC', 'Scheduled', '999', 'N', 'N'))"
   ]
  },
  {
   "cell_type": "code",
   "execution_count": 19,
   "metadata": {},
   "outputs": [
    {
     "name": "stdout",
     "output_type": "stream",
     "text": [
      "1\n"
     ]
    }
   ],
   "source": [
    "print(insert_seats('319', '9Z', 'Ejecutivo'))"
   ]
  },
  {
   "cell_type": "code",
   "execution_count": 21,
   "metadata": {},
   "outputs": [
    {
     "name": "stdout",
     "output_type": "stream",
     "text": [
      "1\n"
     ]
    }
   ],
   "source": [
    "print(insert_ticket_flights(9933123599, 99999, 'Economica', 5000))"
   ]
  },
  {
   "cell_type": "code",
   "execution_count": 6,
   "metadata": {},
   "outputs": [
    {
     "name": "stdout",
     "output_type": "stream",
     "text": [
      "1\n"
     ]
    }
   ],
   "source": [
    "print(insert_tickets(993312358588, 'Z313ZZZ', '2024 65271999'))"
   ]
  }
 ],
 "metadata": {
  "kernelspec": {
   "display_name": "Python 3",
   "language": "python",
   "name": "python3"
  },
  "language_info": {
   "codemirror_mode": {
    "name": "ipython",
    "version": 3
   },
   "file_extension": ".py",
   "mimetype": "text/x-python",
   "name": "python",
   "nbconvert_exporter": "python",
   "pygments_lexer": "ipython3",
   "version": "3.11.4"
  }
 },
 "nbformat": 4,
 "nbformat_minor": 2
}
