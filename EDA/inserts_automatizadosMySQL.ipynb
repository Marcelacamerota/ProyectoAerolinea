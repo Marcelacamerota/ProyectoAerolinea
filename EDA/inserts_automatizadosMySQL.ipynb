{
 "cells": [
  {
   "cell_type": "code",
   "execution_count": null,
   "metadata": {},
   "outputs": [],
   "source": [
    "import pymysql\n",
    "#paquete para manejar varable de entorno(variable q esta en otra parte del codigo)\n",
    "from dotenv import load_dotenv\n",
    "import os\n",
    "import warnings"
   ]
  },
  {
   "cell_type": "code",
   "execution_count": null,
   "metadata": {},
   "outputs": [],
   "source": [
    "warnings.filterwarnings('ignore')\n",
    "load_dotenv()"
   ]
  },
  {
   "cell_type": "markdown",
   "metadata": {},
   "source": [
    "### Prueba para probar mysql de forma local"
   ]
  },
  {
   "cell_type": "code",
   "execution_count": null,
   "metadata": {},
   "outputs": [],
   "source": [
    "user = \"root\"\n",
    "pswd = \"root\"\n",
    "host = \"localhost\"\n",
    "dbName = \"airline\"\n",
    "\n",
    "conexion = pymysql.connect(host = host, user = user, passwd = pswd, database = dbName)\n",
    "cursor = conexion.cursor()\n",
    "cursor.execute(\"SHOW DATABASES\")\n",
    "for base in cursor:\n",
    "    print(base)\n",
    "conexion.close()"
   ]
  },
  {
   "cell_type": "markdown",
   "metadata": {},
   "source": [
    "### Credenciales para acceder a db remota "
   ]
  },
  {
   "cell_type": "code",
   "execution_count": null,
   "metadata": {},
   "outputs": [],
   "source": [
    "#varaiables de entorno. Credenciales para conectarse a la base de datos\n",
    "user = os.getenv('USER') #os.getenv este obtiene la variable de entorno de lo que le paso como parametro\n",
    "pswd = os.getenv('PASSWORD')\n",
    "host = os.getenv('HOST')\n",
    "dbName = os.getenv('DB_NAME')\n",
    "port = int(os.getenv('PORT')) # lo convierto a entero por que asi lo pide la conexion a mysql\n",
    "\n",
    "connection = pymysql.connect(host = host, user = user, passwd = pswd, database = dbName, port = port)\n",
    "cursor = connection.cursor()\n",
    "cursor.execute(\"SHOW DATABASES\")\n",
    "for base in cursor:\n",
    "    print(base)\n",
    "connection.close()"
   ]
  },
  {
   "cell_type": "code",
   "execution_count": null,
   "metadata": {},
   "outputs": [],
   "source": [
    "def get_connection():\n",
    "    return pymysql.connect(\n",
    "        host = host,\n",
    "        user = user,\n",
    "        passwd = pswd,\n",
    "        database = dbName,\n",
    "        port = port\n",
    "    )"
   ]
  },
  {
   "cell_type": "markdown",
   "metadata": {},
   "source": [
    "## Inserts automatizados"
   ]
  },
  {
   "cell_type": "code",
   "execution_count": null,
   "metadata": {},
   "outputs": [],
   "source": [
    "def insert_aircrafts_data(connection, aircraft_code, model, range):\n",
    "    if not connection.open:\n",
    "        connection = get_connection()\n",
    "\n",
    "    query =  'INSERT INTO aircrafts_data (aircraft_code, model, `range`) VALUES (%s, %s, %s)'\n",
    "    try:\n",
    "        with connection.cursor() as cursor:\n",
    "            cursor.execute(query, (aircraft_code, model, range))\n",
    "            connection.commit()\n",
    "            return cursor.rowcount\n",
    "    except Exception as e:\n",
    "        connection.rollback()\n",
    "        print(f\"Error al insertar: {e}\")\n",
    "        raise e\n",
    "    finally:\n",
    "        cursor.close()"
   ]
  },
  {
   "cell_type": "code",
   "execution_count": null,
   "metadata": {},
   "outputs": [],
   "source": [
    "def insert_airports_data(connection, airport_code, airport_name, city, coordinates, timezone):\n",
    "    if not connection.open:\n",
    "        connection = get_connection()\n",
    "\n",
    "    query = 'INSERT INTO airports_data (airport_code, airport_name, city, coordinates, timezone) VALUES (%s, %s, %s, %s, %s)'\n",
    "    try:\n",
    "        with connection.cursor() as cursor:\n",
    "            cursor.execute(query, (airport_code, airport_name, city, coordinates, timezone))\n",
    "            connection.commit()\n",
    "            return cursor.rowcount\n",
    "    except Exception as e:\n",
    "        connection.rollback()\n",
    "        print(f\"Error al insertar: {e}\")\n",
    "        raise e\n",
    "    finally:\n",
    "        cursor.close()"
   ]
  },
  {
   "cell_type": "code",
   "execution_count": null,
   "metadata": {},
   "outputs": [],
   "source": [
    "def insert_boarding_passes(connection, ticket_no, flight_id, boarding_no, seat_no):\n",
    "    if not connection.open:\n",
    "        connection = get_connection()\n",
    "\n",
    "    query = 'INSERT INTO boarding_passes (ticket_no, flight_id, boarding_no, seat_no) VALUES (%s, %s, %s, %s)'\n",
    "    try:\n",
    "        with connection.cursor() as cursor:\n",
    "            cursor.execute(query, (ticket_no, flight_id, boarding_no, seat_no))\n",
    "            connection.commit()\n",
    "            return cursor.rowcount\n",
    "    except Exception as e:\n",
    "        connection.rollback()\n",
    "        print(f\"Error al insertar: {e}\")\n",
    "        raise e\n",
    "    finally:\n",
    "        cursor.close()"
   ]
  },
  {
   "cell_type": "code",
   "execution_count": null,
   "metadata": {},
   "outputs": [],
   "source": [
    "def insert_bookings(connection, book_ref, book_date, total_amount):\n",
    "    if not connection.open:\n",
    "        connection = get_connection()\n",
    "\n",
    "    query = 'INSERT INTO bookings (book_ref, book_date, total_amount) VALUES (%s, %s, %s)'\n",
    "    try:\n",
    "        with connection.cursor() as cursor:\n",
    "            cursor.execute(query, (book_ref, book_date, total_amount))\n",
    "            connection.commit()\n",
    "            return cursor.rowcount\n",
    "    except Exception as e:\n",
    "        connection.rollback()\n",
    "        print(f\"Error al insertar: {e}\")\n",
    "        raise e\n",
    "    finally:\n",
    "        cursor.close()"
   ]
  },
  {
   "cell_type": "code",
   "execution_count": null,
   "metadata": {},
   "outputs": [],
   "source": [
    "def insert_flights(connection, flight_id, flight_no, scheduled_departure, scheduled_arrival, departure_airport, arrival_airport, status, aircraft_code, actual_departure, actual_arrival):\n",
    "    if not connection.open:\n",
    "        connection = get_connection()\n",
    "\n",
    "    query = '''INSERT INTO flights (flight_id, flight_no, scheduled_departure, scheduled_arrival, departure_airport, arrival_airport, status, aircraft_code, actual_departure, actual_arrival)\n",
    "        VALUES (%s, %s, %s, %s, %s, %s, %s, %s, %s, %s)'''\n",
    "    try:\n",
    "        with connection.cursor() as cursor:\n",
    "            cursor.execute(query, (flight_id, flight_no, scheduled_departure, scheduled_arrival, departure_airport, arrival_airport, status, aircraft_code, actual_departure, actual_arrival))\n",
    "            connection.commit()\n",
    "            return cursor.rowcount\n",
    "    except Exception as e:\n",
    "        connection.rollback()\n",
    "        print(f\"Error al insertar: {e}\")\n",
    "        raise e\n",
    "    finally:\n",
    "        cursor.close()"
   ]
  },
  {
   "cell_type": "code",
   "execution_count": null,
   "metadata": {},
   "outputs": [],
   "source": [
    "def insert_seats(connection, aircraft_code, seat_no, fare_conditions):\n",
    "    if not connection.open:\n",
    "        connection = get_connection()\n",
    "\n",
    "    query = 'INSERT INTO seats (aircraft_code, seat_no, fare_conditions) VALUES (%s, %s, %s)'\n",
    "    try:\n",
    "        with connection.cursor() as cursor:\n",
    "            cursor.execute(query, (aircraft_code, seat_no, fare_conditions))\n",
    "            connection.commit()\n",
    "            return cursor.rowcount\n",
    "    except Exception as e:\n",
    "        connection.rollback()\n",
    "        print(f\"Error al insertar: {e}\")\n",
    "        raise e\n",
    "    finally:\n",
    "        cursor.close()"
   ]
  },
  {
   "cell_type": "code",
   "execution_count": null,
   "metadata": {},
   "outputs": [],
   "source": [
    "def insert_ticket_flights(connection, ticket_no, flight_id, fare_conditions, amount):\n",
    "    if not connection.open:\n",
    "        connection = get_connection()\n",
    "\n",
    "    query = 'INSERT INTO ticket_flights (ticket_no, flight_id, fare_conditions, amount) VALUES (%s, %s, %s, %s)'\n",
    "    try:\n",
    "        with connection.cursor() as cursor:\n",
    "            cursor.execute(query, (ticket_no, flight_id, fare_conditions, amount))\n",
    "            connection.commit()\n",
    "            return cursor.rowcount\n",
    "    except Exception as e:\n",
    "        connection.rollback()\n",
    "        print(f\"Error al insertar: {e}\")\n",
    "        raise e\n",
    "    finally:\n",
    "        cursor.close()"
   ]
  },
  {
   "cell_type": "code",
   "execution_count": null,
   "metadata": {},
   "outputs": [],
   "source": [
    "def insert_tickets(connection, ticket_no, book_ref, passenger_id):\n",
    "    if not connection.open:\n",
    "        connection = get_connection()\n",
    "\n",
    "    query = 'INSERT INTO tickets (ticket_no, book_ref, passenger_id) VALUES (%s, %s, %s)'\n",
    "    try:\n",
    "        with connection.cursor() as cursor:\n",
    "            cursor.execute(query, (ticket_no, book_ref, passenger_id))\n",
    "            connection.commit()\n",
    "            return cursor.rowcount\n",
    "    except Exception as e:\n",
    "        connection.rollback()\n",
    "        print(f\"Error al insertar: {e}\")\n",
    "        raise e\n",
    "    finally:\n",
    "        cursor.close()"
   ]
  },
  {
   "cell_type": "markdown",
   "metadata": {},
   "source": [
    "### Pruebas de inserts"
   ]
  },
  {
   "cell_type": "code",
   "execution_count": null,
   "metadata": {},
   "outputs": [],
   "source": [
    "print(insert_aircrafts_data(connection, '099', '{\"en\": \"f14 tomkat\", \"ru\": \"test avion\"}', 1920))"
   ]
  },
  {
   "cell_type": "code",
   "execution_count": null,
   "metadata": {},
   "outputs": [],
   "source": [
    "print(insert_airports_data(connection, 'AAA', '{\"en\": \"aeropuerto en ingles\", \"ru\": \"aeropuerto en ruso\"}', '{\"en\": \"city ingles\", \"ru\": \"city ruso\"}', '(123456, 87964)', 'Europa/Moscu'))"
   ]
  },
  {
   "cell_type": "code",
   "execution_count": null,
   "metadata": {},
   "outputs": [],
   "source": [
    "print(insert_boarding_passes(connection, '000564238', 9999, 60, '10A'))"
   ]
  },
  {
   "cell_type": "code",
   "execution_count": null,
   "metadata": {},
   "outputs": [],
   "source": [
    "print(insert_bookings(connection, '0ZZ999', '2024-11-24 20:30:00.0300000', 80000))"
   ]
  },
  {
   "cell_type": "code",
   "execution_count": null,
   "metadata": {},
   "outputs": [],
   "source": [
    "print(insert_flights(connection, 999999, 'MC1780', '2024-11-24 20:30:00.0300000', '2024-11-24 23:30:00.0300000', 'MRM', 'MAC', 'Scheduled', '999', 'N', 'N'))"
   ]
  },
  {
   "cell_type": "code",
   "execution_count": null,
   "metadata": {},
   "outputs": [],
   "source": [
    "print(insert_seats(connection, '319', '9Z', 'Ejecutivo'))"
   ]
  },
  {
   "cell_type": "code",
   "execution_count": null,
   "metadata": {},
   "outputs": [],
   "source": [
    "print(insert_ticket_flights(connection, 9933123599, 99999, 'Economica', 5000))"
   ]
  },
  {
   "cell_type": "code",
   "execution_count": null,
   "metadata": {},
   "outputs": [],
   "source": [
    "print(insert_tickets(connection, 993312358588, 'Z313ZZZ', '2024 65271999'))"
   ]
  }
 ],
 "metadata": {
  "kernelspec": {
   "display_name": "Python 3",
   "language": "python",
   "name": "python3"
  },
  "language_info": {
   "codemirror_mode": {
    "name": "ipython",
    "version": 3
   },
   "file_extension": ".py",
   "mimetype": "text/x-python",
   "name": "python",
   "nbconvert_exporter": "python",
   "pygments_lexer": "ipython3",
   "version": "3.11.4"
  }
 },
 "nbformat": 4,
 "nbformat_minor": 2
}
